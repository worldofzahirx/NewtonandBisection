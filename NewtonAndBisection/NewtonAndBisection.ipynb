{
 "cells": [
  {
   "cell_type": "code",
   "execution_count": 2,
   "id": "7abbb239",
   "metadata": {},
   "outputs": [],
   "source": [
    "import math\n",
    "import matplotlib.pyplot as plt\n",
    "import timeit\n",
    "import numpy as np"
   ]
  },
  {
   "cell_type": "code",
   "execution_count": 4,
   "id": "6f669362",
   "metadata": {},
   "outputs": [],
   "source": [
    "def func (x):\n",
    "     return x**5 - 3*x**4 - 7*x**2 + 2*x + 6\n"
   ]
  },
  {
   "cell_type": "code",
   "execution_count": 5,
   "id": "b02d68d9",
   "metadata": {},
   "outputs": [],
   "source": [
    "a = 2\n",
    "b = 3\n",
    "tolerance = 1 * math.exp(-6)\n",
    "max_iterations = 5000\n"
   ]
  },
  {
   "cell_type": "code",
   "execution_count": 43,
   "id": "d1bcbffe",
   "metadata": {},
   "outputs": [],
   "source": [
    "for i in range(max_iterations):\n",
    "    c = (a + b) / 2\n",
    "    if (abs(func(c)) < tolerance):\n",
    "        print(f\"Root found at x = {c:.6f}\")\n",
    "        print(\"The time taken is \",timeit.timeit())\n",
    "        break\n",
    "    elif (func(c) * func(a)) < 0:\n",
    "        b = c\n",
    "    else:\n",
    "        a = c"
   ]
  },
  {
   "cell_type": "markdown",
   "id": "f16a15dd",
   "metadata": {},
   "source": [
    "#NEWTON RAPHSON METHOD"
   ]
  },
  {
   "cell_type": "code",
   "execution_count": 44,
   "id": "d49ca271",
   "metadata": {},
   "outputs": [
    {
     "data": {
      "image/png": "[encoded data removed]",
      "text/plain": [
       "<Figure size 432x288 with 1 Axes>"
      ]
     },
     "metadata": {
      "needs_background": "light"
     },
     "output_type": "display_data"
    }
   ],
   "source": [
    "#plot a graph to make a good guess for x0\n",
    "x = np.linspace(-20,20)\n",
    "y = 3*x**5 + 2*x**4 + 5*x ** 2 - x +4\n",
    "\n",
    "plt.plot (x, y)\n",
    "plt.grid()"
   ]
  },
  {
   "cell_type": "code",
   "execution_count": 45,
   "id": "d988d364",
   "metadata": {},
   "outputs": [],
   "source": [
    "def deriv(x):\n",
    "    return 15*x**4 + 8*x**3 + 10*x - 1"
   ]
  },
  {
   "cell_type": "code",
   "execution_count": 49,
   "id": "f60936a3",
   "metadata": {},
   "outputs": [],
   "source": [
    "x0 = 4\n",
    "tolerance = 1e-6\n",
    "max_iter = 100"
   ]
  },
  {
   "cell_type": "code",
   "execution_count": 52,
   "id": "4aebad77",
   "metadata": {},
   "outputs": [
    {
     "name": "stdout",
     "output_type": "stream",
     "text": [
      "Root found at x = 3.487759\n",
      "The time taken taken is 0.017766500008292496\n"
     ]
    }
   ],
   "source": [
    "for i in range(max_iter):\n",
    "    fx = func(x0)\n",
    "    d_fx = deriv(x0)\n",
    "    \n",
    "    x1 = x0 -(fx/d_fx)\n",
    "    if abs(func(x1))< tolerance:\n",
    "        print(f\"Root found at x = {x1:.6f}\")\n",
    "        print(\"The time taken taken is\" ,timeit.timeit())\n",
    "        break\n",
    "    else:\n",
    "        x0 = x1"
   ]
  }
 ],
 "metadata": {
  "kernelspec": {
   "display_name": "Python 3 (ipykernel)",
   "language": "python",
   "name": "python3"
  },
  "language_info": {
   "codemirror_mode": {
    "name": "ipython",
    "version": 3
   },
   "file_extension": ".py",
   "mimetype": "text/x-python",
   "name": "python",
   "nbconvert_exporter": "python",
   "pygments_lexer": "ipython3",
   "version": "3.10.10"
  }
 },
 "nbformat": 4,
 "nbformat_minor": 5
}
